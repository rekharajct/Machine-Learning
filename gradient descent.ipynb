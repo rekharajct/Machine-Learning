{
  "cells": [
    {
      "cell_type": "code",
      "execution_count": null,
      "metadata": {
        "id": "zzVq-3gg1uld",
        "outputId": "c5891984-0132-437c-9222-1cf75f9bd10d"
      },
      "outputs": [
        {
          "data": {
            "image/png": "[encoded data removed]",
            "text/plain": [
              "<matplotlib.figure.Figure at 0x7fdd53465780>"
            ]
          },
          "metadata": {},
          "output_type": "display_data"
        },
        {
          "name": "stdout",
          "output_type": "stream",
          "text": [
            "96.66666666666667\n",
            "Error 0.013213270763105777\n"
          ]
        },
        {
          "data": {
            "image/png": "[encoded data removed]",
            "text/plain": [
              "<matplotlib.figure.Figure at 0x7fdd532a0898>"
            ]
          },
          "metadata": {},
          "output_type": "display_data"
        }
      ],
      "source": [
        "#Gradient descent with multiple variables\n",
        "import pandas as pd\n",
        "import numpy as np\n",
        "import matplotlib.pyplot as plt\n",
        "from scipy.special import expit\n",
        "from mpl_toolkits.mplot3d import Axes3D\n",
        "\n",
        "def sigmoid(x):\n",
        "    return expit(x)\n",
        "\n",
        "def grad_descent(X, Y, N, M,A,B):\n",
        "    w_new=np.zeros(M)\n",
        "    w_old=np.random.random(M)\n",
        "    J=1\n",
        "    J_values=[]\n",
        "    i=0\n",
        "    while(1):\n",
        "        if(w_new==w_old).all() or i==5000:\n",
        "            break\n",
        "        else:\n",
        "            y_pred=sigmoid(X.dot(w_new.T))\n",
        "            #print(y_pred)\n",
        "            \n",
        "            error=y_pred-Y\n",
        "            error=np.round(error,2)\n",
        "            #print(error)\n",
        "            cost=-1*(Y*(np.log(y_pred))+(1-Y)*np.log(1-y_pred))\n",
        "            J=sum(cost)/N\n",
        "            J_values.append(J)\n",
        "            #print(x.T)\n",
        "            gradient=np.round((X.T).dot(error),2)/N\n",
        "            #print(gradient)\n",
        "            w_old=w_new\n",
        "            w_new=w_new-(.0001)*gradient.T\n",
        "        i=i+1\n",
        "    print(\"error\",J)\n",
        "    print(\"weights\\n\")\n",
        "    print(w_new) \n",
        "    print(\"iterations\",i)\n",
        "    \n",
        "    #plot of cost function\n",
        "    fig1= plt.figure()\n",
        "    plt.plot(np.arange(i),J_values,'b')\n",
        "    plt.xlabel(\"iterations\")\n",
        "    plt.ylabel(\"Cost function\")\n",
        "    plt.title(\"Plot of cost function\")\n",
        "    plt.show()\n",
        "    \n",
        "\n",
        "    #plot of decision boundary\n",
        "    fig=plt.figure()\n",
        "    plt.scatter(A['Var2'],A['Var3'],color='r',marker='o',label=\"y=0\")\n",
        "    plt.scatter(B['Var2'],B['Var3'],color='b',marker='o',label=\"y=1\")\n",
        "    x1=np.arange(-50,50,1)\n",
        "    x2=-1*(w_new['Var1']+w_new['Var2']*x1)/w_new['Var3']\n",
        "    plt.plot(x1,x2,'g',label='decision boundary')\n",
        "    plt.xlabel(\"X1\")\n",
        "    plt.ylabel(\"X2\")\n",
        "    plt.title(\"Plot of decision boundary on training data\")\n",
        "    plt.legend(loc=2)\n",
        "    plt.show()\n",
        "    \n",
        "    return w_new\n",
        "\n",
        "\n",
        "def test_model(test, test_y, wts, A, B):\n",
        "#Weights\n",
        "    ##wts=pd.Series([0.001905,-0.129117,0.002257,0.011750,0.031468,0.148164,0.005660])\n",
        "    weights=wts\n",
        "    J_values=[]\n",
        "    #weights = pd.Series(wts)\n",
        "    #print(weights.shape)\n",
        "    pred=sigmoid(test.dot(weights))\n",
        "    cost=pred-test_y\n",
        "    \n",
        "    correct_pred=np.sum(round(pred)==test_y)\n",
        "    N_test=test.shape[0]\n",
        "    #print(pred)\n",
        "    # print(correct_pred)\n",
        "    accuracy=correct_pred*100/N_test\n",
        "    print(accuracy)\n",
        "    #mean square error\n",
        "    J=sum(cost)/N\n",
        "    J_values.append(J)\n",
        "    print(\"Error\",J)\n",
        "    fig=plt.figure()\n",
        "    plt.scatter(A['Var2'],A['Var3'],color='r',marker='o',label=\"y=0\")\n",
        "    plt.scatter(B['Var2'],B['Var3'],color='b',marker='o',label=\"y=1\")\n",
        "    x1=np.arange(-50,50,1)\n",
        "    x2=-1*(weights[0]+weights[1]*x1)/weights[2]\n",
        "    plt.plot(x1,x2,'g',label='decision boundary')\n",
        "    plt.xlabel(\"X1\")\n",
        "    plt.ylabel(\"X2\")\n",
        "    plt.title(\"Plot of decision boundary on test data\")\n",
        "    plt.legend(loc=2)\n",
        "    plt.show()\n",
        "\n",
        "    plt.show()\n",
        "    \n",
        "    \n",
        "df=pd.read_csv(\"assignment2.csv\")\n",
        "##df=df1.dropna()\n",
        "test=df.sample(frac=.3)\n",
        "test_y=test[test.columns[1]]\n",
        "#print(df)\n",
        "test=test.drop(test.columns[0],axis=1)\n",
        "test_A=test[test['y']==0]\n",
        "test_B=test[test['y']==1]\n",
        "test=test.drop(test.columns[0],axis=1)\n",
        "#print(test)\n",
        "train=df.drop(test.index)\n",
        "A=train[train['y']==0]\n",
        "B=train[train['y']==1]\n",
        "#print(A)\n",
        "Y=train[train.columns[1]]\n",
        "#3print(Y)\n",
        "x_original=train.drop(train.columns[0],axis=1)\n",
        "#print(x_original)\n",
        "X=x_original.drop(x_original.columns[0],axis=1)\n",
        "#X.insert(0,\"ones\",1)\n",
        "#print(df)\n",
        "#print(X)\n",
        "\n",
        "N=X.shape[0]#no of inputs\n",
        "M=X.shape[1]#no of features\n",
        "fig=plt.figure()\n",
        "plt.scatter(A['Var2'],A['Var3'],color='r',marker='o')\n",
        "plt.scatter(B['Var2'],B['Var3'],color='b',marker='o')\n",
        "plt.xlabel(\"x1\")\n",
        "plt.ylabel(\"x2\")\n",
        "plt.title(\"Training data\")\n",
        "plt.show()\n",
        "#print(N,M)\n",
        "#w_new=np.random.random(M)\n",
        "#df.plot()\n",
        "#wts=grad_descent(X,Y,N,M,A,B)\n",
        "wts=[ -0.045462,  0.284918, 0.291230]\n",
        "test_model(test,test_y,wts,test_A, test_B)"
      ]
    },
    {
      "cell_type": "code",
      "execution_count": null,
      "metadata": {
        "id": "k60Jk3bu1ulh"
      },
      "outputs": [],
      "source": [
        ""
      ]
    },
    {
      "cell_type": "code",
      "execution_count": null,
      "metadata": {
        "id": "_ig9tYZx1ulh"
      },
      "outputs": [],
      "source": [
        ""
      ]
    },
    {
      "cell_type": "code",
      "execution_count": null,
      "metadata": {
        "id": "GzHF9zIg1ulh"
      },
      "outputs": [],
      "source": [
        ""
      ]
    }
  ],
  "metadata": {
    "kernelspec": {
      "display_name": "Python 3",
      "language": "python",
      "name": "python3"
    },
    "language_info": {
      "codemirror_mode": {
        "name": "ipython",
        "version": 3
      },
      "file_extension": ".py",
      "mimetype": "text/x-python",
      "name": "python",
      "nbconvert_exporter": "python",
      "pygments_lexer": "ipython3",
      "version": "3.5.2"
    },
    "colab": {
      "name": "Assignment2_1.ipynb",
      "provenance": []
    }
  },
  "nbformat": 4,
  "nbformat_minor": 0
}