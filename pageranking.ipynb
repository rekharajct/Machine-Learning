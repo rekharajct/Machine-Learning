{
  "cells": [
    {
      "cell_type": "code",
      "execution_count": null,
      "metadata": {
        "scrolled": true,
        "id": "19cmqxDA0yv-",
        "outputId": "e631d926-5a2e-4cca-996e-fe8b22cc9be5"
      },
      "outputs": [
        {
          "name": "stdout",
          "output_type": "stream",
          "text": [
            "\n",
            "Dominant eigen vector:\n",
            "-------------------------\n",
            "[0.2195122  0.29268293 0.19512195 0.14634146 0.14634146]\n",
            "\n",
            "Google page rank matrix\n",
            "----------------------\n",
            "[[0.03       0.03       0.455      0.31333333 0.455     ]\n",
            " [0.88       0.03       0.03       0.03       0.455     ]\n",
            " [0.03       0.455      0.03       0.31333333 0.03      ]\n",
            " [0.03       0.455      0.03       0.03       0.03      ]\n",
            " [0.03       0.03       0.455      0.31333333 0.03      ]]\n",
            "\n",
            "Ranking:-------------\n",
            "[0.22006221 0.28268547 0.19268137 0.15014133 0.15442962]\n",
            "Page Rank based on new Ranking\n",
            "Transition Matrix:----------------\n",
            " [[0 0 3 3 3]\n",
            " [3 0 0 0 3]\n",
            " [0 3 0 3 0]\n",
            " [0 3 0 0 0]\n",
            " [0 0 3 3 0]]\n",
            "Google page rank matrix\n",
            "----------------------\n",
            "[[0.03 0.03 2.58 2.58 2.58]\n",
            " [2.58 0.03 0.03 0.03 2.58]\n",
            " [0.03 2.58 0.03 2.58 0.03]\n",
            " [0.03 2.58 0.03 0.03 0.03]\n",
            " [0.03 0.03 2.58 2.58 0.03]]\n",
            "New ranking:\n",
            "-----------------\n",
            "[0.26573871 0.23536042 0.19551788 0.12859827 0.17478473]\n"
          ]
        }
      ],
      "source": [
        "#Power Iteration\n",
        "import numpy as np\n",
        "from scipy import linalg as la\n",
        "\n",
        "def power_iteration(P):\n",
        "    '''\n",
        "    Input: Matrix P, number of iterations:n\n",
        "    Output: dominant eigen vector of P\n",
        "    '''\n",
        "    no_nodes= P.shape[0]\n",
        "    #initialize eigen vector\n",
        "    r_new=np.random.rand(no_nodes)\n",
        "    \n",
        "    r_old=np.zeros(no_nodes)#vector to store old rank\n",
        "    i=0 # number of iterations\n",
        "    while (r_old!=r_new).all(): #stop when eigen vector converges\n",
        "        r_old=r_new\n",
        "        #r=P.r\n",
        "        r_new = P.dot(r_old)\n",
        "        \n",
        "        # calculate the l1 norm\n",
        "        r_norm= np.linalg.norm(r_new,ord=1)\n",
        "        #nomalize r_new\n",
        "        r_new=r_new/r_norm\n",
        "        \n",
        "        i=i+1\n",
        "        if(i==1000):\n",
        "            break\n",
        "    #print(\"\\nIterations:\",i)\n",
        "    return r_new\n",
        "        \n",
        "def page_rank_matrix(P):\n",
        "    '''return the page rank matrix of P'''\n",
        "    n=P.shape[0]\n",
        "    G=0.85*P+0.15 *(np.ones((n,n))/n)\n",
        "    return G\n",
        "\n",
        "\n",
        "P=np.array([[0,0,1/2,1/3,1/2],[1,0,0,0,1/2],[0,1/2,0,1/3,0],[0,1/2,0,0,0],[0,0,1/2,1/3,0]])\n",
        "no_nodes=P.shape[0]\n",
        "r=power_iteration(P)\n",
        "print(\"\\nDominant eigen vector:\\n-------------------------\")\n",
        "print(r)\n",
        "\n",
        "#Page rank\n",
        "#convert the matrix to Page Rank Matrix\n",
        "print(\"\\nGoogle page rank matrix\\n----------------------\")\n",
        "G=page_rank_matrix(P)\n",
        "print(G)\n",
        "r=power_iteration(G)\n",
        "print(\"\\nRanking:-------------\")\n",
        "print(r)\n",
        "\n",
        "#Page rank based on new rank\n",
        "print(\"Page Rank based on new Ranking\")\n",
        "c=3\n",
        "P=c*np.array([[0,0,1,1,1],[1,0,0,0,1],[0,1,0,1,0],[0,1,0,0,0],[0,0,1,1,0]])\n",
        "print(\"Transition Matrix:----------------\\n\",P)\n",
        "\n",
        "print(\"Google page rank matrix\\n----------------------\")\n",
        "G=page_rank_matrix(P)\n",
        "print(G)\n",
        "r=power_iteration(G)\n",
        "print(\"New ranking:\\n-----------------\")\n",
        "print(r)\n"
      ]
    },
    {
      "cell_type": "code",
      "execution_count": null,
      "metadata": {
        "id": "7n8j1FD10ywC"
      },
      "outputs": [],
      "source": [
        ""
      ]
    }
  ],
  "metadata": {
    "celltoolbar": "Slideshow",
    "kernelspec": {
      "display_name": "Python 3",
      "language": "python",
      "name": "python3"
    },
    "language_info": {
      "codemirror_mode": {
        "name": "ipython",
        "version": 3
      },
      "file_extension": ".py",
      "mimetype": "text/x-python",
      "name": "python",
      "nbconvert_exporter": "python",
      "pygments_lexer": "ipython3",
      "version": "3.5.2"
    },
    "colab": {
      "name": "Q3.ipynb",
      "provenance": []
    }
  },
  "nbformat": 4,
  "nbformat_minor": 0
}