{
  "cells": [
    {
      "cell_type": "code",
      "execution_count": null,
      "metadata": {
        "id": "sls5zsS02LY1",
        "outputId": "5cf6e06b-25cb-43e4-e416-bd19843018c1"
      },
      "outputs": [
        {
          "name": "stdout",
          "output_type": "stream",
          "text": [
            "(98, 31)\n",
            "(98, 30) (98, 1)\n",
            "(33, 31)\n",
            "(33, 30) (33, 1)\n",
            "Least square Cost\n",
            "0.5042821\n",
            "Train Accuracy:  0.7346939\n",
            "Test Accuracy:  0.75757575\n"
          ]
        },
        {
          "data": {
            "image/png": "[encoded data removed]",
            "text/plain": [
              "<matplotlib.figure.Figure at 0x7f60a029ef60>"
            ]
          },
          "metadata": {},
          "output_type": "display_data"
        },
        {
          "name": "stdout",
          "output_type": "stream",
          "text": [
            "15\n",
            "Sensitivity 0.7894736842105263\n",
            "Specificity 0.7142857142857143\n",
            "[[0.]\n",
            " [1.]\n",
            " [1.]\n",
            " [1.]\n",
            " [0.]\n",
            " [0.]\n",
            " [0.]\n",
            " [0.]\n",
            " [0.]\n",
            " [0.]\n",
            " [0.]\n",
            " [0.]\n",
            " [0.]\n",
            " [1.]\n",
            " [1.]\n",
            " [1.]\n",
            " [1.]\n",
            " [1.]\n",
            " [1.]\n",
            " [1.]\n",
            " [1.]\n",
            " [0.]\n",
            " [1.]\n",
            " [0.]\n",
            " [1.]\n",
            " [1.]\n",
            " [1.]\n",
            " [1.]\n",
            " [1.]\n",
            " [0.]\n",
            " [1.]\n",
            " [0.]\n",
            " [1.]]\n"
          ]
        },
        {
          "data": {
            "image/png": "[encoded data removed]",
            "text/plain": [
              "<matplotlib.figure.Figure at 0x7f60a1c74278>"
            ]
          },
          "metadata": {},
          "output_type": "display_data"
        }
      ],
      "source": [
        "#Binary Classification\n",
        "import pandas as pd\n",
        "import numpy as np\n",
        "import matplotlib.pyplot as plt\n",
        "from scipy.special import expit\n",
        "from __future__ import division\n",
        "import tensorflow as tf\n",
        "\n",
        "def sigmoid(x):\n",
        "    return expit(x)\n",
        "\n",
        "def log_reg_model(X_train, Y_train,X_test,Y_test):\n",
        "    N=X_train.shape[0] #No of training inputs\n",
        "    M=X_train.shape[1] #No. of features\n",
        "    learning_rate = 0.1\n",
        "    epochs =10000\n",
        "\n",
        "    \n",
        "    #set placeholders\n",
        "    X = tf.placeholder(tf.float32,[None, M])\n",
        "    Y = tf.placeholder(tf.float32,[None, 1])\n",
        "    \n",
        "    #initialize weights\n",
        "    weights = tf.Variable(tf.zeros([M,1]))\n",
        "    \n",
        "    # predict y\n",
        "    y_pred = tf.sigmoid(tf.matmul(X,weights))\n",
        "    \n",
        "    #cost\n",
        "    cost = -tf.reduce_mean(Y * tf.log(y_pred) + (1 - Y) * tf.log(1 - y_pred))\n",
        "    \n",
        "    #optimize using gradient descent\n",
        "    train_op=tf.train.GradientDescentOptimizer(learning_rate).minimize(cost)\n",
        "    \n",
        "    #predict\n",
        "    predicted = tf.cast(y_pred > 0.5, dtype=tf.float32)\n",
        "    \n",
        "    #compute accuracy\n",
        "    accuracy = tf.reduce_mean(tf.cast(tf.equal(predicted, Y), dtype=tf.float32))\n",
        "    \n",
        "    #ceate a tensorflow session and initialize variable\n",
        "    sess = tf.Session()\n",
        "    init = tf.global_variables_initializer()\n",
        "    sess.run(init)\n",
        "                          \n",
        "  \n",
        "   \n",
        "    J_values=np.zeros(epochs) #to store cost at each epoch\n",
        "   \n",
        "    #Train\n",
        "    for i in range(epochs):\n",
        "        res=sess.run([train_op,cost], feed_dict={X:X_train, Y:Y_train})\n",
        "        J_values[i]=res[1]\n",
        "      \n",
        "    print(\"Least square Cost\")\n",
        "    print(res[1])\n",
        "    \n",
        "    \n",
        "    p, a = sess.run([ predicted, accuracy],\n",
        "                       feed_dict={X: X_train, Y: Y_train})\n",
        "    print(\"Train Accuracy: \", a)\n",
        "    \n",
        "    \n",
        "    Y_pred, a,Y_true = sess.run([ predicted, accuracy,Y],\n",
        "                       feed_dict={X: X_test, Y: Y_test})\n",
        "    print(\"Test Accuracy: \", a)\n",
        "    \n",
        "    #plot of cost function\n",
        "    fig1= plt.figure()\n",
        "    plt.plot(np.arange(i+1),J_values,'b')\n",
        "    plt.xlabel(\"iterations\")\n",
        "    plt.ylabel(\"Cost function\")\n",
        "    plt.title(\"Plot of cost function\")\n",
        "    plt.show()\n",
        "    \n",
        "    #compute Sensititivity and specificity\n",
        "    \n",
        "    TP = np.sum(np.logical_and(Y_pred == 1, Y_true== 1))\n",
        "    TN = np.sum(np.logical_and(Y_pred == 0, Y_true == 0))\n",
        "    FP = np.sum(np.logical_and(Y_pred == 1, Y_true == 0))\n",
        "    FN = np.sum(np.logical_and(Y_pred == 0, Y_true == 1))\n",
        "    print(TP)\n",
        "    print(\"Sensitivity\",TP/(TP+FN))\n",
        "    print(\"Specificity\",TN/(TN+FP))\n",
        "    print(Y_pred)\n",
        "    \n",
        "    #find the correlation coefficient between prediction and ground truth\n",
        "    xl=Y_pred.flatten()\n",
        "    yl=Y_true.flatten()\n",
        "    inds = xl.argsort()\n",
        "    yls= yl[inds]\n",
        "    xls=xl[inds]\n",
        "    \n",
        "    \n",
        "    plt.scatter(Y_true,Y_pred)\n",
        "    plt.xlabel(\"ground truth\")\n",
        "    plt.ylabel(\"prediction\")\n",
        "    plt.title(\"Correlation between ground truth and prediction\")\n",
        "    plt.show()\n",
        "    \n",
        "def plot_corr(df):\n",
        "    \n",
        "    print(df.drop(labels='OS', axis=1).corrwith(df['OS']))\n",
        "    '''\n",
        "    plt.figure(figsize=(15,15))\n",
        "    plt.matshow(df.corr(),fignum=1)\n",
        "    plt.xticks(range(len(df.columns)), df.columns)\n",
        "    plt.yticks(range(len(df.columns)), df.columns)\n",
        "    plt.colorbar()\n",
        "    plt.show()\n",
        "    '''\n",
        "\n",
        "    \n",
        "\n",
        "\n",
        "def get_dataset(data):\n",
        "    \n",
        "    dfo=pd.read_csv(data).astype('float32')\n",
        "    #plot_corr(dfo)\n",
        "    df = (dfo - dfo.mean()) / (dfo.max() - dfo.min())\n",
        "    print(df.shape)\n",
        "    X=df[df.columns[0:30]]\n",
        "    \n",
        "    \n",
        "    df['y']=np.where(dfo['OS']<300, '0', '1')\n",
        "    Y=pd.DataFrame(df['y'])\n",
        "    #A=df[df['y']==0]\n",
        "    #B=df[df['y']==1]\n",
        "    return X,Y\n",
        "        \n",
        "X_train, Y_train=get_dataset(\"30_train_features.csv\")\n",
        "print(X_train.shape,Y_train.shape)\n",
        "X_test, Y_test=get_dataset(\"30_test_features.csv\")\n",
        "print(X_test.shape,Y_test.shape)\n",
        "log_reg_model(X_train, Y_train,X_test,Y_test)\n",
        "#test(X_train, Y_train,X_test,Y_tes\n",
        " #"
      ]
    },
    {
      "cell_type": "code",
      "execution_count": null,
      "metadata": {
        "id": "YXlXSL1y2LY5",
        "outputId": "ad9726ff-e4e3-4f5b-a5df-ff0417723b13"
      },
      "outputs": [
        {
          "name": "stdout",
          "output_type": "stream",
          "text": [
            "(8,)\n"
          ]
        },
        {
          "data": {
            "text/plain": [
              "array([[1., 1.],\n",
              "       [1., 1.]])"
            ]
          },
          "execution_count": 7,
          "metadata": {},
          "output_type": "execute_result"
        }
      ],
      "source": [
        "a=np.array([1,2,3,4,6,7,8,9])\n",
        "print(a.shape)\n",
        "np.corrcoef(a,a)"
      ]
    },
    {
      "cell_type": "code",
      "execution_count": null,
      "metadata": {
        "id": "8pg_Hi-E2LY6"
      },
      "outputs": [],
      "source": [
        ""
      ]
    },
    {
      "cell_type": "code",
      "execution_count": null,
      "metadata": {
        "id": "08dwo4Tp2LY6"
      },
      "outputs": [],
      "source": [
        ""
      ]
    },
    {
      "cell_type": "code",
      "execution_count": null,
      "metadata": {
        "id": "uoUT-Ve92LY6"
      },
      "outputs": [],
      "source": [
        ""
      ]
    },
    {
      "cell_type": "code",
      "execution_count": null,
      "metadata": {
        "id": "4kp2bldE2LY6"
      },
      "outputs": [],
      "source": [
        ""
      ]
    }
  ],
  "metadata": {
    "kernelspec": {
      "display_name": "Python 3",
      "language": "python",
      "name": "python3"
    },
    "language_info": {
      "codemirror_mode": {
        "name": "ipython",
        "version": 3
      },
      "file_extension": ".py",
      "mimetype": "text/x-python",
      "name": "python",
      "nbconvert_exporter": "python",
      "pygments_lexer": "ipython3",
      "version": "3.5.2"
    },
    "colab": {
      "name": "Assignment3_1.ipynb",
      "provenance": []
    }
  },
  "nbformat": 4,
  "nbformat_minor": 0
}