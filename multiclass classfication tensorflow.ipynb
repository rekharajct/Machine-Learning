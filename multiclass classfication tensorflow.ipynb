{
  "cells": [
    {
      "cell_type": "code",
      "execution_count": null,
      "metadata": {
        "id": "2yHnSceC2MoZ",
        "outputId": "fc789452-cc8b-497e-8965-593c7ce26166"
      },
      "outputs": [
        {
          "name": "stdout",
          "output_type": "stream",
          "text": [
            "y (98, 3)\n",
            "y (33, 3)\n",
            "LSQ Cost\n",
            "0.54619783\n",
            "training accuracy\n",
            "0.78571427\n",
            "test accuracy\n",
            "0.5151515\n",
            "Correlation coefficient [[1.         0.30358174]\n",
            " [0.30358174 1.        ]]\n"
          ]
        },
        {
          "data": {
            "image/png": "[encoded data removed]",
            "text/plain": [
              "<matplotlib.figure.Figure at 0x7f05b86cf2e8>"
            ]
          },
          "metadata": {},
          "output_type": "display_data"
        },
        {
          "name": "stdout",
          "output_type": "stream",
          "text": [
            "9 16 3 5\n",
            "Sensitivity w.r.t class 0 0.6428571428571429\n",
            "Specificity w.r.t class 0 0.8421052631578947\n",
            "5 17 6 5\n",
            "Sensitivity w.r.t class 1 0.5\n",
            "Specificity w.r.t class 1 0.7391304347826086\n",
            "3 17 6 6\n",
            "Sensitivity w.r.t class 1 0.3333333333333333\n",
            "Specificity w.r.t class 1 0.7391304347826086\n"
          ]
        },
        {
          "data": {
            "image/png": "[encoded data removed]",
            "text/plain": [
              "<matplotlib.figure.Figure at 0x7f05b1fcf128>"
            ]
          },
          "metadata": {},
          "output_type": "display_data"
        }
      ],
      "source": [
        "#Multiclass Classification\n",
        "import pandas as pd\n",
        "import numpy as np\n",
        "import matplotlib.pyplot as plt\n",
        "from scipy.special import expit\n",
        "from __future__ import division\n",
        "import tensorflow as tf\n",
        "def sigmoid(x):\n",
        "    return expit(x)\n",
        "def log_reg_model(X_train, Y_train,X_test,Y_test):\n",
        "    \n",
        "    N=X_train.shape[0]#No.of inputs\n",
        "    M=X_train.shape[1]#No. of features\n",
        "    learning_rate = 0.3\n",
        "    epochs =20000\n",
        "    \n",
        "       \n",
        "    J_values=np.zeros(epochs)#\n",
        "    \n",
        "    \n",
        "    #set placeholders\n",
        "    X = tf.placeholder(tf.float32,[None, M])\n",
        "    Y = tf.placeholder(tf.float32,[None,3])\n",
        "    \n",
        "    #initialize weights\n",
        "    weights = tf.Variable(tf.zeros([M,3]))\n",
        "   \n",
        "    \n",
        "    # predict y\n",
        "    y_pred = tf.matmul(X,weights)\n",
        "    \n",
        "    #compute cost\n",
        "    cost = tf.reduce_mean(tf.nn.softmax_cross_entropy_with_logits_v2(labels=Y,logits=y_pred))\n",
        "    \n",
        "    #Optimize using gradient sedcent\n",
        "    train_op=tf.train.GradientDescentOptimizer(learning_rate).minimize(cost)\n",
        "    \n",
        "    #Predict    \n",
        "    predicted = tf.nn.softmax(y_pred)\n",
        "    \n",
        "    #predicted classes\n",
        "    pred_labels=tf.argmax(predicted,1)\n",
        "    true_labels=tf.argmax(Y,1)\n",
        "    #Compute accuracy\n",
        "    accuracy = tf.reduce_mean(tf.cast(tf.equal(pred_labels,true_labels),dtype=tf.float32))\n",
        "        \n",
        "    \n",
        "    #TensorFlow session\n",
        "    sess = tf.Session()\n",
        "    init = tf.global_variables_initializer()\n",
        "    sess.run(init)\n",
        "                          \n",
        "  \n",
        "    #Train\n",
        "    for i in range(epochs):\n",
        "        res=sess.run([train_op,cost], feed_dict={X:X_train, Y:Y_train})\n",
        "        J_values[i]=res[1]\n",
        "    print(\"LSQ Cost\")\n",
        "    print(res[1])\n",
        "    \n",
        "    print(\"training accuracy\")\n",
        "    a=sess.run(accuracy,feed_dict={X:X_train, Y:Y_train})\n",
        "    print(a)\n",
        "    \n",
        "    \n",
        "    print(\"test accuracy\")\n",
        "    p, a = sess.run([predicted,accuracy], feed_dict={X: X_test, Y: Y_test})\n",
        "    \n",
        "    print(a)\n",
        "    \n",
        "    \n",
        "    #Compute sensitivity, specificity using one vs all\n",
        "    #Class 0\n",
        "    Y_pred,Y_true=sess.run([pred_labels,true_labels],feed_dict={X: X_test, Y: Y_test})\n",
        "    \n",
        "    #find the correlation coefficient between prediction and ground truth\n",
        "    corr_coef=np.corrcoef(Y_pred.flatten(), Y_true.flatten())\n",
        "    print(\"Correlation coefficient\", corr_coef)\n",
        "    plt.scatter(Y_true,Y_pred)\n",
        "    plt.xlabel(\"ground truth\")\n",
        "    plt.ylabel(\"prediction\")\n",
        "    plt.title(\"Correlation between ground truth and prediction\")\n",
        "    plt.show()\n",
        "    \n",
        "    TP = np.sum(np.logical_and(Y_pred == 0, Y_true == 0))\n",
        "    TN = np.sum(np.logical_and(np.logical_or(Y_pred ==1 , Y_pred ==2), np.logical_or(Y_true ==1 , Y_true==2)))\n",
        "    FP = np.sum(np.logical_and(Y_pred == 0, np.logical_or(Y_true ==1 , Y_true==2)))\n",
        "    FN = np.sum(np.logical_and(np.logical_or(Y_pred ==1 , Y_pred ==2), Y_true == 0))\n",
        "    print(TP,TN,FP,FN)\n",
        "    print(\"Sensitivity w.r.t class 0\",TP/(TP+FN))\n",
        "    print(\"Specificity w.r.t class 0\",TN/(TN+FP))\n",
        "    \n",
        "    #class 1\n",
        "    TP = np.sum(np.logical_and(Y_pred == 1, Y_true == 1))\n",
        "    TN = np.sum(np.logical_and(np.logical_or(Y_pred ==0 , Y_pred ==2), np.logical_or(Y_true ==0 , Y_true==2)))\n",
        "    FP = np.sum(np.logical_and(Y_pred == 1, np.logical_or(Y_true ==0 , Y_true==2)))\n",
        "    FN = np.sum(np.logical_and(np.logical_or(Y_pred ==0, Y_pred ==2), Y_true == 1))\n",
        "    print(TP,TN,FP,FN)\n",
        "    print(\"Sensitivity w.r.t class 1\",TP/(TP+FN))\n",
        "    print(\"Specificity w.r.t class 1\",TN/(TN+FP))\n",
        "    \n",
        "    \n",
        "    #class 2\n",
        "    TP = np.sum(np.logical_and(Y_pred == 2, Y_true == 2))\n",
        "    TN = np.sum(np.logical_and(np.logical_or(Y_pred ==0 , Y_pred ==1), np.logical_or(Y_true ==1 , Y_true==0)))\n",
        "    FP = np.sum(np.logical_and(Y_pred == 2, np.logical_or(Y_true ==0 , Y_true==2)))\n",
        "    FN = np.sum(np.logical_and(np.logical_or(Y_pred ==1 , Y_pred ==0), Y_true == 2))\n",
        "    print(TP,TN,FP,FN)\n",
        "    print(\"Sensitivity w.r.t class 1\",TP/(TP+FN))\n",
        "    print(\"Specificity w.r.t class 1\",TN/(TN+FP))\n",
        "    \n",
        "    #plot of cost function\n",
        "    fig1= plt.figure()\n",
        "    plt.plot(np.arange(epochs),J_values,'b')\n",
        "    plt.xlabel(\"iterations\")\n",
        "    plt.ylabel(\"Cost function\")\n",
        "    plt.title(\"Plot of cost function\")\n",
        "    plt.show()\n",
        "    \n",
        "    \n",
        "    \n",
        "    \n",
        "    \n",
        "def get_dataset(data):\n",
        "    dfo=pd.read_csv(data).astype('float32')\n",
        "    df = (dfo - dfo.mean()) / (dfo.max() - dfo.min())\n",
        "    #print(df.shape)\n",
        "    X=df[df.columns[0:30]]\n",
        "    \n",
        "    df['y']=np.where(dfo['OS']<300, '0', np.where(dfo['OS']<450,'1', '2'))\n",
        "    Y=pd.DataFrame(df['y'])\n",
        "    Y_one_hot= pd.get_dummies(Y,prefix=['y'])\n",
        "    #A=df[df['y']==0]\n",
        "    \n",
        "    #B=df[df['y']==1]\n",
        "    #print(df.corr())\n",
        "    print(\"y\",Y_one_hot.shape)\n",
        "\n",
        "    return X,Y_one_hot\n",
        "        \n",
        "X_train, Y_train =get_dataset(\"30_train_features.csv\")\n",
        "#print(X_train.shape,Y_train.shape)\n",
        "X_test, Y_test=get_dataset(\"30_test_features.csv\")\n",
        "#print(Y_test)\n",
        "#print(X_test.shape,Y_test.shape)\n",
        "log_reg_model(X_train, Y_train,X_test,Y_test)\n",
        "\n",
        " "
      ]
    },
    {
      "cell_type": "code",
      "execution_count": null,
      "metadata": {
        "id": "6CPohY-72Mob"
      },
      "outputs": [],
      "source": [
        ""
      ]
    },
    {
      "cell_type": "code",
      "execution_count": null,
      "metadata": {
        "id": "dGQyyCcU2Moc"
      },
      "outputs": [],
      "source": [
        ""
      ]
    },
    {
      "cell_type": "code",
      "execution_count": null,
      "metadata": {
        "id": "3q_DvTpN2Moc"
      },
      "outputs": [],
      "source": [
        ""
      ]
    },
    {
      "cell_type": "code",
      "execution_count": null,
      "metadata": {
        "id": "Kb8dLHq32Moc"
      },
      "outputs": [],
      "source": [
        ""
      ]
    },
    {
      "cell_type": "code",
      "execution_count": null,
      "metadata": {
        "id": "n7AlhdR62Moc"
      },
      "outputs": [],
      "source": [
        ""
      ]
    }
  ],
  "metadata": {
    "kernelspec": {
      "display_name": "Python 3",
      "language": "python",
      "name": "python3"
    },
    "language_info": {
      "codemirror_mode": {
        "name": "ipython",
        "version": 3
      },
      "file_extension": ".py",
      "mimetype": "text/x-python",
      "name": "python",
      "nbconvert_exporter": "python",
      "pygments_lexer": "ipython3",
      "version": "3.5.2"
    },
    "colab": {
      "name": "Assignment3_2.ipynb",
      "provenance": []
    }
  },
  "nbformat": 4,
  "nbformat_minor": 0
}